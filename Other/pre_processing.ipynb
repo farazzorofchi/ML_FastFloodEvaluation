{
 "cells": [
  {
   "cell_type": "code",
   "execution_count": null,
   "metadata": {},
   "outputs": [],
   "source": [
    "import random\n",
    "import re\n",
    "\n",
    "import pandas as pd\n",
    "import numpy as np\n",
    "import joblib"
   ]
  },
  {
   "cell_type": "code",
   "execution_count": null,
   "metadata": {},
   "outputs": [],
   "source": [
    "def to_snake_case(item):\n",
    "    \"\"\"Convert input string to 'snake_case' format.\"\"\"\n",
    "    regex = r'(?<!^)(?=[A-Z])'\n",
    "    return re.sub(regex, '_', item).lower()\n"
   ]
  },
  {
   "cell_type": "code",
   "execution_count": null,
   "metadata": {},
   "outputs": [],
   "source": [
    "data_raw = pd.read_csv('FimaNfipClaims.csv', low_memory=False)"
   ]
  },
  {
   "cell_type": "code",
   "execution_count": null,
   "metadata": {},
   "outputs": [],
   "source": [
    "data_interim = data_raw.copy()\n",
    "data_interim.columns = [to_snake_case(item) for item in data_raw.columns]\n"
   ]
  },
  {
   "cell_type": "code",
   "execution_count": null,
   "metadata": {},
   "outputs": [],
   "source": [
    "data_interim = (\n",
    "    data_interim\n",
    "    .fillna({\n",
    "        'amount_paid_on_increased_cost_of_compliance_claim': 0,\n",
    "        'amount_paid_on_building_claim': 0,\n",
    "        'amount_paid_on_contents_claim': 0,\n",
    "    })\n",
    "    .assign(\n",
    "        total_insurance_value=lambda x: (\n",
    "            x['total_building_insurance_coverage'] +\n",
    "            x['total_contents_insurance_coverage']\n",
    "        ),\n",
    "        total_loss=lambda x: (\n",
    "            x['amount_paid_on_building_claim'] +\n",
    "            x['amount_paid_on_contents_claim']\n",
    "        ),\n",
    "        loss_ratio_building=lambda x: (\n",
    "            x['amount_paid_on_building_claim'] /\n",
    "            x['total_building_insurance_coverage']\n",
    "        ),\n",
    "        loss_ratio_content=lambda x: (\n",
    "            x['amount_paid_on_contents_claim'] /\n",
    "            x['total_contents_insurance_coverage']\n",
    "        ),\n",
    "    )\n",
    "    .assign(total_loss_ratio=lambda x: x['total_loss'] / x['total_insurance_value'])\n",
    ")"
   ]
  },
  {
   "cell_type": "code",
   "execution_count": null,
   "metadata": {},
   "outputs": [],
   "source": [
    "# Keep only year for year built of the building\n",
    "\n",
    "default_date = '1700-01-01T00:00:00.000Z'\n",
    "data_interim['original_construction_date'] = (\n",
    "    data_interim\n",
    "    .loc[:, 'original_construction_date']\n",
    "    .fillna(default_date)\n",
    "    .astype(str)\n",
    "    .replace(regex=['1492-10-12T00:00:00.000Z', '0001-01-01T00:00:00.000Z'], value=default_date)\n",
    "    .astype('datetime64[ns]')\n",
    "    .dt.year\n",
    ")\n"
   ]
  },
  {
   "cell_type": "code",
   "execution_count": null,
   "metadata": {},
   "outputs": [],
   "source": [
    "data_interim['rated_flood_zone'] = (\n",
    "    data_interim\n",
    "    ['rated_flood_zone']\n",
    "    .fillna('UNK')\n",
    "    .replace({\n",
    "        r'((?!A99)A[0-9]+)': 'AE',\n",
    "        r'(AH[\\w]+)': 'AH',\n",
    "        r'(AO[\\w]+)': 'AO',\n",
    "        r'(V[0-9]+)': 'VE',\n",
    "        'B': 'X',\n",
    "        'C': 'X',\n",
    "        'D': 'X',\n",
    "    }, regex=True)\n",
    ")\n"
   ]
  },
  {
   "cell_type": "code",
   "execution_count": null,
   "metadata": {},
   "outputs": [],
   "source": [
    "data_interim['reported_zip_code'] = (\n",
    "    data_interim\n",
    "    ['reported_zip_code']\n",
    "    .fillna(0)\n",
    "    .astype(int)\n",
    ")\n"
   ]
  },
  {
   "cell_type": "code",
   "execution_count": null,
   "metadata": {},
   "outputs": [],
   "source": [
    "data_interim['elevation_difference'] = (\n",
    "    data_interim\n",
    "    .loc[:, ['lowest_floor_elevation', 'base_flood_elevation']]\n",
    "    .fillna(0.0)\n",
    "    .astype('float64')\n",
    "    .assign(elevation_difference=lambda x: (x['lowest_floor_elevation'] - x['base_flood_elevation']).round())\n",
    "    .loc[:, 'elevation_difference']\n",
    ")\n"
   ]
  },
  {
   "cell_type": "code",
   "execution_count": null,
   "metadata": {},
   "outputs": [],
   "source": [
    "data_cleaned = (\n",
    "    data_interim\n",
    "    .drop([\n",
    "        'as_of_date',\n",
    "        'county_code',\n",
    "        'census_tract',\n",
    "        'reported_city',\n",
    "        'date_of_loss',\n",
    "        'elevation_certificate_indicator',\n",
    "        'lowest_adjacent_grade',\n",
    "        'lowest_floor_elevation',\n",
    "        'base_flood_elevation',\n",
    "        # 'original_construction_date',\n",
    "        'original_n_b_date',\n",
    "        'amount_paid_on_increased_cost_of_compliance_claim',\n",
    "        'rate_method',\n",
    "        'small_business_indicator_building',\n",
    "        'state',\n",
    "        # 'reported_zip_code',\n",
    "        'primary_residence_indicator',\n",
    "    ], axis=1)\n",
    "    [lambda x: (\n",
    "        (x['latitude'].notna())\n",
    "        & (x['longitude'].notna())\n",
    "        & (x['number_of_floors_in_the_insured_building'].notna())\n",
    "        & ((x['elevation_difference'] <= 30) & (x['elevation_difference'] >= -30))\n",
    "        & (x['original_construction_date'] >= 1800)\n",
    "        & (x['non_profit_indicator'] != '0')\n",
    "        & (x['reported_zip_code'] > 100)\n",
    "        & (x['total_insurance_value'] != 0)\n",
    "        & (x['obstruction_type'] != '*')\n",
    "        & (x['rated_flood_zone'] != 'UNK')\n",
    "    )]\n",
    "    .fillna({\n",
    "        'obstruction_type': 'UNK',\n",
    "        'agriculture_structure_indicator': 'N',\n",
    "        'basement_enclosure_crawlspace_type': 0,\n",
    "        'condominium_coverage_type_code': 'N',\n",
    "        'policy_count': 1,\n",
    "        'crs_classification_code': 0,\n",
    "        'elevated_building_indicator': 'UNK',\n",
    "        'rated_flood_zone': 'UNK',\n",
    "        'house_worship': 'N',\n",
    "        'location_of_contents': 'UNK',\n",
    "        'non_profit_indicator': 'N',\n",
    "        'occupancy_type': 1.0,\n",
    "        'post_f_i_r_m_construction_indicator': 'UNK',\n",
    "    })\n",
    "    # .astype({'obstruction_type': 'str'})\n",
    "    .reset_index(drop=True)\n",
    ")\n"
   ]
  },
  {
   "cell_type": "code",
   "execution_count": null,
   "metadata": {},
   "outputs": [],
   "source": [
    "data_cleaned.columns.tolist()"
   ]
  },
  {
   "cell_type": "code",
   "execution_count": null,
   "metadata": {},
   "outputs": [],
   "source": [
    "data_cleaned.to_csv('FEMA_Data_Cleaned_Regression_V2.csv', index=False)\n"
   ]
  }
 ],
 "metadata": {
  "kernelspec": {
   "display_name": "env-flood-risk-predictor",
   "language": "python",
   "name": "python3"
  },
  "language_info": {
   "codemirror_mode": {
    "name": "ipython",
    "version": 3
   },
   "file_extension": ".py",
   "mimetype": "text/x-python",
   "name": "python",
   "nbconvert_exporter": "python",
   "pygments_lexer": "ipython3",
   "version": "3.7.6"
  },
  "orig_nbformat": 4
 },
 "nbformat": 4,
 "nbformat_minor": 2
}
